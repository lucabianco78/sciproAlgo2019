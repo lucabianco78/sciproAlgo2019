{
 "cells": [
  {
   "cell_type": "markdown",
   "metadata": {},
   "source": [
    "# Scientific Programming: Algorithms"
   ]
  },
  {
   "cell_type": "markdown",
   "metadata": {},
   "source": [
    "# General Info\n",
    "\n",
    "The contacts to reach me can be found [at this page](http://www.fmach.it/CRI/info-generali/organizzazione/Biologia-computazionale/BIANCO-LUCA).\n",
    "\n",
    "## Timetable and lecture rooms\n",
    "\n",
    "Lectures will take place on Mondays from 14:30 to 16:30 (in lecture room TBD) and on Wednesdays from 11:30 to 13:30 (in lecture room TBD). This second part of the Scientific Programming course will tentatively run from 01/11/2019 to 20/12/2019.\n",
    "\n",
    "## Slides\n",
    "\n",
    "The slides shown during the lectures will gradually appear below:\n",
    "\n",
    "* Lecture 1: [Introduction to algorithms](docs/Lecture1.pdf)\n",
    "\n",
    "\n",
    "## Teaching assistants\n",
    "\n",
    "[David Leoni](https://www5.unitn.it/People/it/Web/Persona/PER0014767#INFO) (for Data Science)  \n",
    "\n",
    "[Massimiliano Luca](https://webapps.unitn.it/du/it/Persona/PER0178755/OrarioRicevimento) (for QCB) \n",
    "\n",
    "\n",
    "## Course material \n",
    "\n",
    "Brad Miller and David Ranum. *Problem Solving with Algorithms and Data Structures using Python*. An interactive version is freely available at [this link](http://interactivepython.org/runestone/static/pythonds/index.html). \n",
    "\n",
    "Other material includes the following books:\n",
    "\n",
    "* Lutz. Learning Python (5th edition). O’REILLY (2013)\n",
    "\n",
    "* Hetland. Python Algorithms: Mastering Basic Algorithms in the Python Language. Apress, 2nd ed. (2014)\n",
    "\n",
    "and (thanks to Prof. Alberto Montresor)\n",
    "\n",
    "\n",
    "* Introduction to algorithms\t| [Link](notes/notes01.pdf)\n",
    "\n",
    "* Big-Oh Notation\t| [Link](notes/notes02.pdf)\n",
    "\n",
    "* Sorting\t| [Link](notes/notes07.pdf)\n",
    "\n",
    "* Dynamic Programming\t| [Link](notes/pd.pdf)\n",
    "\n",
    "* Greedy Algorithms\t| [Link](notes/genome-rearrangements.pdf)\n",
    "\n",
    "* String Algorithms\t| [Link](notes/string-algorithms.pdf)\n",
    "\n",
    "\n",
    "## Acknowledgements\n",
    "\n",
    "I would like to thank Prof. Alberto Montresor for kindly allowing me to use his slides and Dr. David Leoni for all his help and for sharing Jupman with me. I would also like to thank Dr. Stefano Teso for allowing us to use some of his material of a previous course.\n"
   ]
  }
 ],
 "metadata": {
  "celltoolbar": "Edit Metadata",
  "kernelspec": {
   "display_name": "Python 3",
   "language": "python",
   "name": "python3"
  },
  "language_info": {
   "codemirror_mode": {
    "name": "ipython",
    "version": 3
   },
   "file_extension": ".py",
   "mimetype": "text/x-python",
   "name": "python",
   "nbconvert_exporter": "python",
   "pygments_lexer": "ipython3",
   "version": "3.6.8"
  },
  "toc": {
   "base_numbering": 1,
   "nav_menu": {},
   "number_sections": false,
   "sideBar": true,
   "skip_h1_title": false,
   "title_cell": "Table of Contents",
   "title_sidebar": "Contents",
   "toc_cell": false,
   "toc_position": {},
   "toc_section_display": true,
   "toc_window_display": false
  }
 },
 "nbformat": 4,
 "nbformat_minor": 2
}
